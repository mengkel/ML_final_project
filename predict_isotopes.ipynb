{
 "cells": [
  {
   "cell_type": "markdown",
   "id": "430c0953",
   "metadata": {},
   "source": [
    "This file is going to demonsatrate how to use Ordianry Least Square Regression, Ridge Regression and FRDM models to predict the mass of nuclei. "
   ]
  },
  {
   "cell_type": "code",
   "execution_count": 1,
   "id": "575d92f7",
   "metadata": {},
   "outputs": [],
   "source": [
    "import numpy as np\n",
    "import matplotlib.pyplot as plt\n",
    "from scipy import stats"
   ]
  },
  {
   "cell_type": "markdown",
   "id": "01c88862",
   "metadata": {},
   "source": [
    "We need to define some basic functions "
   ]
  },
  {
   "cell_type": "code",
   "execution_count": 2,
   "id": "f3c67847",
   "metadata": {},
   "outputs": [],
   "source": [
    "def cal_mse(A, Y, beta):\n",
    "    y_hat = A.dot(beta)\n",
    "    mse = np.square(y_hat-Y).mean()\n",
    "    return mse\n",
    "\n",
    "def cal_beta(A, Y):\n",
    "    beta = (np.linalg.pinv((A.T).dot(A)).dot(A.T)).dot(Y)\n",
    "    return beta\n",
    "\n",
    "def cal_beta_r(A, Y):\n",
    "    beta = (np.linalg.pinv((A.T).dot(A)+0.01*np.identity(8)).dot(A.T)).dot(Y)\n",
    "    return beta\n",
    "\n",
    "def std_data(X):\n",
    "    X_std = stats.zscore(X, axis = 0)\n",
    "    b = np.ones((len(X),1))\n",
    "    X_new = np.concatenate((b,X_std), axis = 1)\n",
    "    return X_new\n",
    "\n",
    "def cal_pair(Z, N):\n",
    "    Z, N = np.atleast_1d(Z), np.atleast_1d(N)\n",
    "    A = Z+N\n",
    "    sgn = np.zeros(len(Z))\n",
    "    for i in range(len(Z)):\n",
    "        if (Z[i]%2==0) and (N[i]%2==0):\n",
    "            sgn[i] = 1\n",
    "        if (Z[i]%2==1) and (N[i]%2==1):\n",
    "            sgn[i] = -1\n",
    "    return A, sgn\n",
    "\n",
    "def get_exp(ele, Z, N, ME):\n",
    "    IND = [index for index, element in enumerate(Z) if element == ele]\n",
    "    N_ele = [N[i] for i in iter(IND)]\n",
    "    ME_ele = [ME[i]*10**(-3) for i in iter(IND)] #Mass Excess of Fe in MeV \n",
    "    return N_ele, ME_ele\n",
    "\n",
    "def SEMF(Z, N):\n",
    "    aV, aS, aC, aA, delta = 15.75, 17.8, 0.711, 23.7, 11.18\n",
    "    Z, N = np.atleast_1d(Z), np.atleast_1d(N)\n",
    "    # Total number of nucleons\n",
    "    A = Z+ N\n",
    "    sgn = np.zeros(len(Z))\n",
    "    for i in range(len(Z)):\n",
    "        if (Z[i]%2==0) and (N[i]%2==0):\n",
    "            sgn[i] = 1\n",
    "        if (Z[i]%2==1) and (N[i]%2==1):\n",
    "            sgn[i] = -1\n",
    "    \n",
    "    # The SEMF for the average binding energy per nucleon.\n",
    "    E = (aV - aS / A**(1/3) - aC * Z**2 / A**(4/3) -\n",
    "         aA * (A-2*Z)**2/A**2 + sgn * delta/A**(3/2))\n",
    "    if Z.shape[0] == 1:\n",
    "        return float(E)\n",
    "    return E "
   ]
  },
  {
   "cell_type": "markdown",
   "id": "a64d21f4",
   "metadata": {},
   "source": [
    "First, we need to get the experimental data from a txt file."
   ]
  },
  {
   "cell_type": "code",
   "execution_count": 3,
   "id": "0f31c264",
   "metadata": {},
   "outputs": [],
   "source": [
    "data = [line.strip('\\n') for line in open('mass16.txt')][39:]\n",
    "sep_n = [6,8]\n",
    "sep_z = [11,13]\n",
    "sep_me = [29,40]\n",
    "sep_mass = [96, 112]\n",
    "\n",
    "N = [int(line[sep_n[0]:sep_n[1]+1]) for line in data]\n",
    "Z = [int(line[sep_z[0]:sep_z[1]+1]) for line in data]\n",
    "ME = np.array([float(line[sep_me[0]:sep_me[1]+1].replace('#', '')) for line in data]) # in kev\n",
    "MN = np.array([float(line[sep_mass[0]:sep_mass[1]+1].replace(' ','').replace('#', '')) for line in data])\n",
    "MN = MN*10**(-6) #mass number in u\n",
    "unit = 931.505 #convert u to MeV/c^2\n",
    "MASS = MN*unit\n",
    "mn = MASS[0]\n",
    "mp = MASS[1]\n",
    "A, sgn = cal_pair(Z, N) \n",
    "Mass_excess = (MN - A) * unit\n",
    "\n"
   ]
  },
  {
   "cell_type": "markdown",
   "id": "44f4d0ce",
   "metadata": {},
   "source": [
    "Then, we select an element that we would like to explore."
   ]
  },
  {
   "cell_type": "code",
   "execution_count": 4,
   "id": "5c7fdfd1",
   "metadata": {},
   "outputs": [],
   "source": [
    "ele = 71"
   ]
  },
  {
   "cell_type": "markdown",
   "id": "a4544766",
   "metadata": {},
   "source": [
    "Plot experimental data of specific element"
   ]
  },
  {
   "cell_type": "code",
   "execution_count": 5,
   "id": "bbcb6cf1",
   "metadata": {},
   "outputs": [
    {
     "data": {
      "text/plain": [
       "<matplotlib.collections.PathCollection at 0x110ce4280>"
      ]
     },
     "execution_count": 5,
     "metadata": {},
     "output_type": "execute_result"
    },
    {
     "data": {
      "image/png": "[encoded data removed]",
      "text/plain": [
       "<Figure size 432x288 with 1 Axes>"
      ]
     },
     "metadata": {
      "needs_background": "light"
     },
     "output_type": "display_data"
    }
   ],
   "source": [
    "N_exp, ME_exp = get_exp(ele, Z, N, ME)\n",
    "plt.scatter(N_exp, ME_exp, marker = '*', alpha = 0.5, label = 'AME2016', color = 'black', zorder=5) "
   ]
  },
  {
   "cell_type": "markdown",
   "id": "c833d64a",
   "metadata": {},
   "source": [
    "Get the training data and test data"
   ]
  },
  {
   "cell_type": "code",
   "execution_count": 6,
   "id": "a827a74a",
   "metadata": {},
   "outputs": [],
   "source": [
    "def create_test(ele, num, Z, N, Nt, MASS):\n",
    "    Z_test = ele*np.ones(num+1)\n",
    "    N_test = [N_exp[-1]+i+1 for i in range(num+1)]\n",
    "    Z = np.concatenate((Z, Z_test), axis=0)\n",
    "    N = np.concatenate((N, N_test), axis=0)\n",
    "    A, sgn = cal_pair(Z, N) \n",
    "    X = np.array([Z, N, A, A*A**(-1/3), A*Z**2/A**(4/3), (A-2*Z)**2/A,  A * sgn / A**(3/2)]).T\n",
    "    x = std_data(X)\n",
    "    x_train = x[:Nt, :]\n",
    "    x_test = x[Nt:,:]\n",
    "    y_train = MASS[:Nt]\n",
    "    return Z, N, A, x_train, x_test, y_train\n",
    "\n",
    "Z, N, A, x_train, x_test, y_train = create_test(ele, 5, Z, N, 3200, MASS)    "
   ]
  },
  {
   "cell_type": "markdown",
   "id": "57b03a24",
   "metadata": {},
   "source": [
    "If we choose to use the OLS regression, the beta will be this vanilla form. "
   ]
  },
  {
   "cell_type": "code",
   "execution_count": 7,
   "id": "81560094",
   "metadata": {},
   "outputs": [],
   "source": [
    "beta = cal_beta(x_train,y_train)\n",
    "\n",
    "def plot_pre(beta, ele, Z, N, A, x_train, x_test, y_train):\n",
    "    y_hat_train = x_train.dot(beta)\n",
    "    y_hat_test = x_test.dot(beta)\n",
    "    Y = np.concatenate((y_hat_train, y_hat_test), axis=0)\n",
    "    IND = [index for index, element in enumerate(Z) if element == ele]\n",
    "    N_pre = [N[i] for i in iter(IND)]\n",
    "    M_pre = [Y[i] for i in iter(IND)] #Mass Excess of Fe in MeV \n",
    "    ME_pre = M_pre - (ele+np.array(N_pre))*931.505 \n",
    "    return N_pre, ME_pre"
   ]
  },
  {
   "cell_type": "markdown",
   "id": "85690c63",
   "metadata": {},
   "source": [
    "Plot the ordinary least square prediction"
   ]
  },
  {
   "cell_type": "code",
   "execution_count": 8,
   "id": "af304f90",
   "metadata": {},
   "outputs": [
    {
     "data": {
      "text/plain": [
       "<matplotlib.collections.PathCollection at 0x110dfa2e0>"
      ]
     },
     "execution_count": 8,
     "metadata": {},
     "output_type": "execute_result"
    },
    {
     "data": {
      "image/png": "[encoded data removed]",
      "text/plain": [
       "<Figure size 432x288 with 1 Axes>"
      ]
     },
     "metadata": {
      "needs_background": "light"
     },
     "output_type": "display_data"
    }
   ],
   "source": [
    "N_pre, ME_pre = plot_pre(beta, ele, Z, N, A, x_train, x_test, y_train)    \n",
    "plt.scatter(N_pre, ME_pre, marker = 'd', alpha = 0.5, label = 'OLS Regression')"
   ]
  },
  {
   "cell_type": "markdown",
   "id": "bf165e6b",
   "metadata": {},
   "source": [
    "Plot redge regression prediction"
   ]
  },
  {
   "cell_type": "code",
   "execution_count": 9,
   "id": "6ff218b4",
   "metadata": {},
   "outputs": [
    {
     "data": {
      "text/plain": [
       "<matplotlib.collections.PathCollection at 0x110e60940>"
      ]
     },
     "execution_count": 9,
     "metadata": {},
     "output_type": "execute_result"
    },
    {
     "data": {
      "image/png": "[encoded data removed]",
      "text/plain": [
       "<Figure size 432x288 with 1 Axes>"
      ]
     },
     "metadata": {
      "needs_background": "light"
     },
     "output_type": "display_data"
    }
   ],
   "source": [
    "beta = cal_beta_r(x_train,y_train)\n",
    "N_pre, ME_pre = plot_pre(beta, ele, Z, N, A, x_train, x_test, y_train)    \n",
    "plt.scatter(N_pre, ME_pre, marker = 'o', alpha = 0.5, label = 'Ridge Regression')"
   ]
  },
  {
   "cell_type": "markdown",
   "id": "cc096c0c",
   "metadata": {},
   "source": [
    "Plot SEMF predictions"
   ]
  },
  {
   "cell_type": "code",
   "execution_count": 10,
   "id": "70c06869",
   "metadata": {},
   "outputs": [
    {
     "data": {
      "text/plain": [
       "Text(115, -53.624972114979755, 'Lu')"
      ]
     },
     "execution_count": 10,
     "metadata": {},
     "output_type": "execute_result"
    },
    {
     "data": {
      "image/png": "[encoded data removed]",
      "text/plain": [
       "<Figure size 432x288 with 1 Axes>"
      ]
     },
     "metadata": {
      "needs_background": "light"
     },
     "output_type": "display_data"
    }
   ],
   "source": [
    "Mass_ex = []\n",
    "IND = [index for index, element in enumerate(Z) if element == ele]\n",
    "N_se = [N[i] for i in iter(IND)]\n",
    "\n",
    "for i in range(len(N_se)):\n",
    "    se_be = SEMF(ele, N_se[i])\n",
    "    mass_ex = mn*N_se[i] + mp*ele - (N_se[i]+ele)*se_be - (N_se[i]+ele)*931.505\n",
    "    Mass_ex.append(mass_ex)\n",
    "    \n",
    "plt.scatter(N_se, Mass_ex, marker = 'D', alpha = 0.3, label = 'FRDM')\n",
    "plt.legend()\n",
    "plt.xlabel('Neutron numbers (N)')\n",
    "plt.ylabel('Mass Excess (MeV)')\n",
    "#plt.title('Z = ' + str(ele))\n",
    "#plt.ylim(-75, 0)\n",
    "#plt.xlim(75, 125)\n",
    "y = np.array(Mass_ex).min() + 5\n",
    "x = np.array(N_se).max() - 8 \n",
    "plt.text(x, y, 'Lu')"
   ]
  },
  {
   "cell_type": "code",
   "execution_count": null,
   "id": "b1e16373",
   "metadata": {},
   "outputs": [],
   "source": []
  }
 ],
 "metadata": {
  "kernelspec": {
   "display_name": "Python 3 (ipykernel)",
   "language": "python",
   "name": "python3"
  },
  "language_info": {
   "codemirror_mode": {
    "name": "ipython",
    "version": 3
   },
   "file_extension": ".py",
   "mimetype": "text/x-python",
   "name": "python",
   "nbconvert_exporter": "python",
   "pygments_lexer": "ipython3",
   "version": "3.8.12"
  }
 },
 "nbformat": 4,
 "nbformat_minor": 5
}
