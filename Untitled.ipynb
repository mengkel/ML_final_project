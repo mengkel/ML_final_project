{
 "cells": [
  {
   "cell_type": "code",
   "execution_count": 2,
   "id": "118bae74",
   "metadata": {},
   "outputs": [
    {
     "name": "stdout",
     "output_type": "stream",
     "text": [
      "\u001b[33m  WARNING: The scripts convert-caffe2-to-onnx, convert-onnx-to-caffe2 and torchrun are installed in '/Users/mengkel/Library/Python/3.8/bin' which is not on PATH.\r\n",
      "  Consider adding this directory to PATH or, if you prefer to suppress this warning, use --no-warn-script-location.\u001b[0m\u001b[33m\r\n",
      "\u001b[0m"
     ]
    }
   ],
   "source": [
    "import sys\n",
    "!{sys.executable} -m pip install --quiet torch"
   ]
  },
  {
   "cell_type": "code",
   "execution_count": 3,
   "id": "fb35a712",
   "metadata": {},
   "outputs": [],
   "source": [
    "import matplotlib.pyplot as plt # creating visualizations\n",
    "import numpy as np # basic math and random numbers\n",
    "import torch # package for building functions with learnable parameters\n",
    "import torch.nn as nn # prebuilt functions specific to neural networks\n",
    "from torch.autograd import Variable # storing data while learning"
   ]
  },
  {
   "cell_type": "code",
   "execution_count": 9,
   "id": "eaa874f6",
   "metadata": {},
   "outputs": [
    {
     "data": {
      "text/plain": [
       "<matplotlib.collections.PathCollection at 0x140167430>"
      ]
     },
     "execution_count": 9,
     "metadata": {},
     "output_type": "execute_result"
    },
    {
     "data": {
      "image/png": "[encoded data removed]",
      "text/plain": [
       "<Figure size 432x288 with 1 Axes>"
      ]
     },
     "metadata": {
      "needs_background": "light"
     },
     "output_type": "display_data"
    }
   ],
   "source": [
    "data = [line.strip('\\n') for line in open('mass16.txt')][39:]\n",
    "\n",
    "sep_n = [6,8]\n",
    "sep_z = [11,13]\n",
    "sep_me = [29,40]\n",
    "\n",
    "N = [int(line[sep_n[0]:sep_n[1]+1]) for line in data]\n",
    "Z = [int(line[sep_z[0]:sep_z[1]+1]) for line in data]\n",
    "A = np.array(N) + np.array(Z) \n",
    "ME = np.array([float(line[sep_me[0]:sep_me[1]+1].replace('#', '')) for line in data])\n",
    "\n",
    "def get_exp(ele, Z, N, ME):\n",
    "    IND = [index for index, element in enumerate(Z) if element == ele]\n",
    "    N_ele = [N[i] for i in iter(IND)]\n",
    "    ME_ele = [ME[i]*10**(-3) for i in iter(IND)] #Mass Excess of Fe in MeV \n",
    "    return np.array(N_ele), np.array(ME_ele)\n",
    "\n",
    "#plot experimental data of specific element \n",
    "ele = 71   \n",
    "x_data, y_data = get_exp(ele, Z, N, ME)\n",
    "plt.scatter(x_data, y_data)"
   ]
  },
  {
   "cell_type": "code",
   "execution_count": 17,
   "id": "0cb75dd9",
   "metadata": {},
   "outputs": [],
   "source": [
    "n_input = 1\n",
    "n_hidden = 2\n",
    "n_output = 1\n",
    "n_samples = len(x_data)\n",
    "\n",
    "# create the network (also called a \"model\" of the data)\n",
    "network = nn.Sequential(nn.Linear(n_input, n_hidden),\n",
    "                        nn.Tanh(),\n",
    "                        nn.Linear(n_hidden, n_output))\n",
    "loss_fn = nn.MSELoss()\n",
    "optimizer = torch.optim.RMSprop(network.parameters())\n",
    "\n",
    "x_tensor = torch.from_numpy(np.float32(x_data).reshape(n_samples, n_input))\n",
    "y_tensor = torch.from_numpy(np.float32(y_data).reshape(n_samples, n_input))\n",
    "x_variable = Variable(x_tensor)\n",
    "y_variable = Variable(y_tensor, requires_grad=False)"
   ]
  },
  {
   "cell_type": "code",
   "execution_count": 18,
   "id": "28310204",
   "metadata": {},
   "outputs": [
    {
     "name": "stdout",
     "output_type": "stream",
     "text": [
      "0 tensor(2338.0488)\n",
      "300 tensor(1338.4143)\n",
      "600 tensor(822.6105)\n",
      "900 tensor(457.2066)\n",
      "1200 tensor(229.4473)\n",
      "1500 tensor(124.2647)\n",
      "1800 tensor(103.6588)\n",
      "2100 tensor(103.4569)\n",
      "2400 tensor(103.4569)\n",
      "2700 tensor(103.4569)\n",
      "3000 tensor(103.4569)\n",
      "3300 tensor(103.4571)\n",
      "3600 tensor(103.4571)\n",
      "3900 tensor(103.4571)\n",
      "4200 tensor(103.4571)\n",
      "4500 tensor(103.4571)\n",
      "4800 tensor(103.4571)\n"
     ]
    }
   ],
   "source": [
    "def train():\n",
    "    for epoch in range(5000):\n",
    "        y_pred = network(x_variable) # make a prediction\n",
    "        loss = loss_fn(y_pred, y_variable) # compute the loss\n",
    "        optimizer.zero_grad() # prepare the optimizer\n",
    "        loss.backward() # compute the contribution of each parameter to the loss\n",
    "        optimizer.step() # modify the parameters\n",
    "\n",
    "        if epoch % 300 == 0:\n",
    "            print(epoch, loss.data)\n",
    "\n",
    "train()"
   ]
  },
  {
   "cell_type": "code",
   "execution_count": 20,
   "id": "3357d13b",
   "metadata": {},
   "outputs": [
    {
     "data": {
      "image/png": "[encoded data removed]",
      "text/plain": [
       "<Figure size 432x288 with 1 Axes>"
      ]
     },
     "metadata": {
      "needs_background": "light"
     },
     "output_type": "display_data"
    }
   ],
   "source": [
    "# evenly spaced samples from -10 to 10\n",
    "x_test_data = np.linspace(80, 115, n_samples)\n",
    "\n",
    "# change data shape, move from numpy to torch\n",
    "x_test_tensor = torch.from_numpy(np.float32(x_test_data).reshape(n_samples, n_input))\n",
    "x_test_variable = Variable(x_test_tensor)\n",
    "y_test_variable = network(x_test_variable)\n",
    "\n",
    "# move from torch back to numpy\n",
    "y_test_data = y_test_variable.data.numpy()\n",
    "\n",
    "# plot the original data and the test data\n",
    "#plt.figure(figsize=(8, 8))\n",
    "plt.scatter(x_data, y_data, alpha=0.5)\n",
    "plt.scatter(x_test_data, y_test_data, alpha=0.5)\n",
    "plt.show()"
   ]
  },
  {
   "cell_type": "code",
   "execution_count": 21,
   "id": "6d3ee01f",
   "metadata": {},
   "outputs": [],
   "source": [
    "class MDN(nn.Module):\n",
    "    def __init__(self, n_hidden, n_gaussians):\n",
    "        super(MDN, self).__init__()\n",
    "        self.z_h = nn.Sequential(\n",
    "            nn.Linear(1, n_hidden),\n",
    "            nn.Tanh()\n",
    "        )\n",
    "        self.z_pi = nn.Linear(n_hidden, n_gaussians)\n",
    "        self.z_sigma = nn.Linear(n_hidden, n_gaussians)\n",
    "        self.z_mu = nn.Linear(n_hidden, n_gaussians)  \n",
    "\n",
    "    def forward(self, x):\n",
    "        z_h = self.z_h(x)\n",
    "        pi = nn.functional.softmax(self.z_pi(z_h), -1)\n",
    "        sigma = torch.exp(self.z_sigma(z_h))\n",
    "        mu = self.z_mu(z_h)\n",
    "        return pi, sigma, mu"
   ]
  },
  {
   "cell_type": "code",
   "execution_count": 22,
   "id": "53f516aa",
   "metadata": {},
   "outputs": [],
   "source": [
    "oneDivSqrtTwoPI = 1.0 / np.sqrt(2.0*np.pi) # normalization factor for Gaussians\n",
    "def gaussian_distribution(y, mu, sigma):\n",
    "    # make |mu|=K copies of y, subtract mu, divide by sigma\n",
    "    result = (y.expand_as(mu) - mu) * torch.reciprocal(sigma)\n",
    "    result = -0.5 * (result * result)\n",
    "    return (torch.exp(result) * torch.reciprocal(sigma)) * oneDivSqrtTwoPI\n",
    "\n",
    "def mdn_loss_fn(pi, sigma, mu, y):\n",
    "    result = gaussian_distribution(y, mu, sigma) * pi\n",
    "    result = torch.sum(result, dim=1)\n",
    "    result = -torch.log(result)\n",
    "    return torch.mean(result)"
   ]
  },
  {
   "cell_type": "code",
   "execution_count": 23,
   "id": "67ab5460",
   "metadata": {},
   "outputs": [],
   "source": [
    "network = MDN(n_hidden=6, n_gaussians=1)\n",
    "optimizer = torch.optim.Adam(network.parameters())"
   ]
  },
  {
   "cell_type": "code",
   "execution_count": 27,
   "id": "ffd41d8c",
   "metadata": {},
   "outputs": [],
   "source": [
    "mdn_x_data = x_data\n",
    "mdn_y_data = y_data\n",
    "\n",
    "mdn_x_tensor = x_tensor\n",
    "mdn_y_tensor = y_tensor\n",
    "\n",
    "x_variable = Variable(mdn_x_tensor)\n",
    "y_variable = Variable(mdn_y_tensor, requires_grad=False)"
   ]
  },
  {
   "cell_type": "code",
   "execution_count": 28,
   "id": "fec1aa38",
   "metadata": {},
   "outputs": [
    {
     "name": "stdout",
     "output_type": "stream",
     "text": [
      "0 tensor(nan)\n",
      "200 tensor(nan)\n",
      "400 tensor(nan)\n",
      "600 tensor(nan)\n",
      "800 tensor(nan)\n"
     ]
    }
   ],
   "source": [
    "def train_mdn():\n",
    "    for epoch in range(1000):\n",
    "        pi_variable, sigma_variable, mu_variable = network(x_variable)\n",
    "        loss = mdn_loss_fn(pi_variable, sigma_variable, mu_variable, y_variable)\n",
    "        optimizer.zero_grad()\n",
    "        loss.backward()\n",
    "        optimizer.step()\n",
    "        \n",
    "        if epoch % 200 == 0:\n",
    "            print(epoch, loss.data)\n",
    "\n",
    "train_mdn()"
   ]
  },
  {
   "cell_type": "code",
   "execution_count": null,
   "id": "c0d4899a",
   "metadata": {},
   "outputs": [],
   "source": []
  }
 ],
 "metadata": {
  "kernelspec": {
   "display_name": "Python 3 (ipykernel)",
   "language": "python",
   "name": "python3"
  },
  "language_info": {
   "codemirror_mode": {
    "name": "ipython",
    "version": 3
   },
   "file_extension": ".py",
   "mimetype": "text/x-python",
   "name": "python",
   "nbconvert_exporter": "python",
   "pygments_lexer": "ipython3",
   "version": "3.8.12"
  }
 },
 "nbformat": 4,
 "nbformat_minor": 5
}
